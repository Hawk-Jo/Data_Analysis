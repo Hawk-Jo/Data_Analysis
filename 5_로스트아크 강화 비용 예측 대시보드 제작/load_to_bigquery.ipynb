{
 "cells": [
  {
   "cell_type": "code",
   "execution_count": 2,
   "metadata": {},
   "outputs": [],
   "source": [
    "# pip install google-cloud-bigquery"
   ]
  },
  {
   "cell_type": "code",
   "execution_count": 1,
   "metadata": {},
   "outputs": [],
   "source": [
    "import os\n",
    "os.environ[\"GOOGLE_APPLICATION_CREDENTIALS\"] = \"D:/Project_lostark/token/wired-strategy-452206-s3-d796d1a9efdd.json\""
   ]
  },
  {
   "cell_type": "code",
   "execution_count": 4,
   "metadata": {},
   "outputs": [],
   "source": [
    "# # 강화재료 거래 데이터를 빅쿼리로 업로드\n",
    "# from google.cloud import bigquery\n",
    "# import pandas as pd\n",
    "\n",
    "# # BigQuery 클라이언트 생성\n",
    "# client = bigquery.Client()\n",
    "\n",
    "# # 데이터 예시\n",
    "# data = pd.read_csv('daily_market_data_per_day.csv')\n",
    "# data['Date'] = pd.to_datetime(data['Date'], format = 'mixed')\n",
    "\n",
    "# df = pd.DataFrame(data)\n",
    "\n",
    "# # BigQuery 프로젝트 및 테이블 정보 설정\n",
    "# project_id = \"wired-strategy-452206-s3\"\n",
    "# dataset_id = \"raw_data\"\n",
    "# table_id = \"daily_market_data_per_day\"\n",
    "\n",
    "# table_full_id = f\"{project_id}.{dataset_id}.{table_id}\"\n",
    "\n",
    "# # 데이터 업로드 (기존 데이터 덮어쓰기)\n",
    "# job = client.load_table_from_dataframe(df, table_full_id, job_config=bigquery.LoadJobConfig(write_disposition=\"WRITE_TRUNCATE\"))\n",
    "\n",
    "# job.result()  # 작업 완료 대기\n",
    "\n",
    "# print(f\"업로드 완료: {table_full_id}\")\n"
   ]
  },
  {
   "cell_type": "code",
   "execution_count": 2,
   "metadata": {},
   "outputs": [
    {
     "name": "stdout",
     "output_type": "stream",
     "text": [
      "업로드 완료: wired-strategy-452206-s3.raw_data.gold_package_events_contents_level\n"
     ]
    }
   ],
   "source": [
    "# 골드 가격 관련 정보를 빅쿼리로 업로드\n",
    "from google.cloud import bigquery\n",
    "import pandas as pd\n",
    "\n",
    "# BigQuery 클라이언트 생성\n",
    "client = bigquery.Client()\n",
    "\n",
    "# 데이터 예시\n",
    "data = pd.read_csv('api로 얻지 못하는 데이터\\크리스탈_이벤트.csv')\n",
    "data['Date'] = pd.to_datetime(data['Date'], format = 'mixed')\n",
    "\n",
    "df = pd.DataFrame(data)\n",
    "\n",
    "# BigQuery 프로젝트 및 테이블 정보 설정\n",
    "project_id = \"wired-strategy-452206-s3\"\n",
    "dataset_id = \"raw_data\"\n",
    "table_id = \"gold_package_events_contents_level\"\n",
    "\n",
    "table_full_id = f\"{project_id}.{dataset_id}.{table_id}\"\n",
    "\n",
    "# 데이터 업로드 (기존 데이터 덮어쓰기)\n",
    "job = client.load_table_from_dataframe(df, table_full_id, job_config=bigquery.LoadJobConfig(write_disposition=\"WRITE_TRUNCATE\"))\n",
    "\n",
    "job.result()  # 작업 완료 대기\n",
    "\n",
    "print(f\"업로드 완료: {table_full_id}\")\n"
   ]
  }
 ],
 "metadata": {
  "kernelspec": {
   "display_name": "base",
   "language": "python",
   "name": "python3"
  },
  "language_info": {
   "codemirror_mode": {
    "name": "ipython",
    "version": 3
   },
   "file_extension": ".py",
   "mimetype": "text/x-python",
   "name": "python",
   "nbconvert_exporter": "python",
   "pygments_lexer": "ipython3",
   "version": "3.12.7"
  }
 },
 "nbformat": 4,
 "nbformat_minor": 2
}
