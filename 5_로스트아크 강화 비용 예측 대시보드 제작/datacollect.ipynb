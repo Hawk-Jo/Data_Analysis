{
 "cells": [
  {
   "cell_type": "markdown",
   "metadata": {},
   "source": [
    "25년 1월 12일부터 매일 하루 1회 돌리기"
   ]
  },
  {
   "cell_type": "code",
   "execution_count": 2,
   "metadata": {},
   "outputs": [],
   "source": [
    "import pandas as pd\n",
    "import numpy as np\n",
    "import matplotlib.pyplot as plt\n",
    "import seaborn as sns\n",
    "import re\n",
    "import os"
   ]
  },
  {
   "cell_type": "code",
   "execution_count": 3,
   "metadata": {},
   "outputs": [],
   "source": [
    "# 폴더 내의 모든 CSV 파일 가져오기\n",
    "item_files = [file for file in os.listdir('./data') if file.endswith('.csv')]\n",
    "\n",
    "# CSV 파일을 딕셔너리로 저장\n",
    "dataframes_dict = {}\n",
    "for csv_file in item_files:\n",
    "    file_path = os.path.join('./data', csv_file)  # 전체 파일 경로\n",
    "    df = pd.read_csv(file_path)  # CSV 파일 읽기\n",
    "    csv_file = re.sub('.csv', '', csv_file)  # .csv 확장자 제거\n",
    "    dataframes_dict[csv_file] = df  # 파일 이름을 키로 사용\n",
    "\n",
    "# # 딕셔너리 확인\n",
    "# for file_name, df in dataframes_dict.items():\n",
    "#     print(f\"File: {file_name}\")\n",
    "#     print(df.head())  # 각 데이터프레임의 상위 5개 행 출력\n"
   ]
  },
  {
   "cell_type": "code",
   "execution_count": 4,
   "metadata": {},
   "outputs": [],
   "source": [
    "# api로 하루 전 날짜의 데이터 가져오기\n",
    "\n",
    "import requests\n",
    "import json\n",
    "from lostark_api_token import Token, total_item_df\n",
    "\n",
    "headers = {\n",
    "    'accept' : 'application/json',\n",
    "    'authorization' : Token\n",
    "}\n",
    "\n",
    "# 아이템 코드로 아이템 정보 가져오기\n",
    "def get_item_info(item_code):\n",
    "    url = f'https://developer-lostark.game.onstove.com/markets/items/{item_code}'\n",
    "    response = requests.get(url, headers=headers)\n",
    "    jsonObject = response.json()\n",
    "    return jsonObject\n",
    "\n",
    "# 아이템 정보를 데이터프레임으로 변환\n",
    "def item_info_yesterday(item_info):\n",
    "    name = item_info[0]['Name']\n",
    "    stats = item_info[0]['Stats'][1]\n",
    "    \n",
    "    # 특수 문자 제거 및 띄어쓰기 제거\n",
    "    safe_item_name = re.sub(r'[\\\\/:*?\"<>|[\\]]', '', name)  # 특수 문자를 제거\n",
    "    safe_item_name = safe_item_name.replace(' ', '')  # 띄어쓰기 제거\n",
    "    stats['item_name'] = name  # 아이템 이름 추가\n",
    "    return stats"
   ]
  },
  {
   "cell_type": "code",
   "execution_count": 5,
   "metadata": {},
   "outputs": [],
   "source": [
    "# 아이템 코드로 아이템 정보 갱신하기\n",
    "\n",
    "for item_code in total_item_df['item_code']:\n",
    "    item_info = get_item_info(item_code)\n",
    "    item_info_1day = item_info_yesterday(item_info)\n",
    "    safe_item_name = re.sub(r'[\\\\/:*?\"<>|[\\]]', '', item_info_1day['item_name'])  # 특수 문자를 제거\n",
    "    safe_item_name = safe_item_name.replace(' ', '')  # 띄어쓰기 제거\n",
    "    new_df = pd.concat([dataframes_dict[safe_item_name], pd.DataFrame([item_info_1day])])\n",
    "    dataframes_dict[safe_item_name] = new_df\n",
    "    dataframes_dict[safe_item_name].to_csv(f\"./data/{safe_item_name}.csv\", index=False, encoding='utf-8-sig')"
   ]
  }
 ],
 "metadata": {
  "kernelspec": {
   "display_name": "base",
   "language": "python",
   "name": "python3"
  },
  "language_info": {
   "codemirror_mode": {
    "name": "ipython",
    "version": 3
   },
   "file_extension": ".py",
   "mimetype": "text/x-python",
   "name": "python",
   "nbconvert_exporter": "python",
   "pygments_lexer": "ipython3",
   "version": "3.12.7"
  }
 },
 "nbformat": 4,
 "nbformat_minor": 2
}
